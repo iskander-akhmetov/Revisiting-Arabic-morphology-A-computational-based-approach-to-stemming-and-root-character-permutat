{
 "cells": [
  {
   "cell_type": "markdown",
   "metadata": {},
   "source": [
    "# Imports"
   ]
  },
  {
   "cell_type": "code",
   "execution_count": 112,
   "metadata": {
    "ExecuteTime": {
     "end_time": "2022-10-11T12:29:29.563235Z",
     "start_time": "2022-10-11T12:29:29.554932Z"
    }
   },
   "outputs": [],
   "source": [
    "import pandas as pd\n",
    "import numpy as np\n",
    "from tqdm.notebook import tqdm\n",
    "\n",
    "from collections import Counter\n",
    "from sklearn.feature_extraction.text import CountVectorizer\n",
    "from matplotlib import pyplot as plt"
   ]
  },
  {
   "cell_type": "code",
   "execution_count": 41,
   "metadata": {
    "ExecuteTime": {
     "end_time": "2022-10-11T05:20:13.439072Z",
     "start_time": "2022-10-11T05:20:13.415410Z"
    }
   },
   "outputs": [],
   "source": [
    "import pyarabic.araby as araby\n",
    "\n",
    "before_filter=\"اللَّهمَّ اغْفِرْ لنَا ولوالدِينَا\"\n",
    "after_filter = araby.strip_diacritics(before_filter)\n",
    "\n",
    "print(after_filter)\n",
    "# will print : اللهم اغفر لنا ولوالدينا"
   ]
  },
  {
   "cell_type": "code",
   "execution_count": 29,
   "metadata": {
    "ExecuteTime": {
     "end_time": "2022-10-11T04:58:52.104905Z",
     "start_time": "2022-10-11T04:58:52.098559Z"
    }
   },
   "outputs": [],
   "source": [
    "import pickle\n",
    "def save_obj(obj, name):\n",
    "    pickle.dump(obj,open(name + '.pkl', 'wb'), protocol=4)\n",
    "    \n",
    "def load_obj(name):\n",
    "    with open(name + '.pkl', 'rb') as f:\n",
    "        return pickle.load(f)"
   ]
  },
  {
   "cell_type": "markdown",
   "metadata": {},
   "source": [
    "# Load data"
   ]
  },
  {
   "cell_type": "code",
   "execution_count": 2,
   "metadata": {
    "ExecuteTime": {
     "end_time": "2022-10-06T16:34:14.233551Z",
     "start_time": "2022-10-06T16:34:14.201005Z"
    }
   },
   "outputs": [],
   "source": [
    "ds_rel_names = pd.read_csv('ar_rel_names.csv',';')\n",
    "ds_rel_names"
   ]
  },
  {
   "cell_type": "code",
   "execution_count": 3,
   "metadata": {
    "ExecuteTime": {
     "end_time": "2022-10-06T16:34:17.158009Z",
     "start_time": "2022-10-06T16:34:17.062055Z"
    }
   },
   "outputs": [],
   "source": [
    "ds_words = pd.read_csv('ar_words.csv', ';')\n",
    "ds_words.head()"
   ]
  },
  {
   "cell_type": "code",
   "execution_count": 4,
   "metadata": {
    "ExecuteTime": {
     "end_time": "2022-10-06T16:34:18.697405Z",
     "start_time": "2022-10-06T16:34:18.607451Z"
    }
   },
   "outputs": [],
   "source": [
    "ds_relations = pd.read_csv('ar_relations.csv', ';')\n",
    "ds_relations.head()"
   ]
  },
  {
   "cell_type": "markdown",
   "metadata": {},
   "source": [
    "# Get related words"
   ]
  },
  {
   "cell_type": "code",
   "execution_count": 5,
   "metadata": {
    "ExecuteTime": {
     "end_time": "2022-10-06T16:34:22.815686Z",
     "start_time": "2022-10-06T16:34:22.783103Z"
    }
   },
   "outputs": [],
   "source": [
    "dic_words = {i:w for i, w in zip(ds_words.id.values, ds_words.text.values)}"
   ]
  },
  {
   "cell_type": "code",
   "execution_count": 7,
   "metadata": {
    "ExecuteTime": {
     "end_time": "2022-10-06T16:34:39.129997Z",
     "start_time": "2022-10-06T16:34:39.126117Z"
    }
   },
   "outputs": [],
   "source": [
    "dic_rels = {i:r for i, r in zip(ds_rel_names.id.values, ds_rel_names.name.values)}"
   ]
  },
  {
   "cell_type": "code",
   "execution_count": 8,
   "metadata": {
    "ExecuteTime": {
     "end_time": "2022-10-06T16:34:40.903000Z",
     "start_time": "2022-10-06T16:34:40.743471Z"
    }
   },
   "outputs": [],
   "source": [
    "ds_relations['start_word'] = [dic_words[i] if i in dic_words.keys() else '' for i in ds_relations.start_id.values]\n",
    "ds_relations['end_word'] = [dic_words[i] if i in dic_words.keys() else '' for i in ds_relations.end_id.values]\n",
    "ds_relations['relation'] = [dic_rels[i] for i in ds_relations.relation_id.values]\n",
    "ds_relations.head()"
   ]
  },
  {
   "cell_type": "code",
   "execution_count": 10,
   "metadata": {
    "ExecuteTime": {
     "end_time": "2022-10-06T16:39:14.981802Z",
     "start_time": "2022-10-06T16:39:14.971120Z"
    }
   },
   "outputs": [],
   "source": [
    "ds_relations.shape"
   ]
  },
  {
   "cell_type": "code",
   "execution_count": 11,
   "metadata": {
    "ExecuteTime": {
     "end_time": "2022-10-06T16:39:16.777573Z",
     "start_time": "2022-10-06T16:39:16.743273Z"
    }
   },
   "outputs": [],
   "source": [
    "ds_relations[ds_relations.end_word != ''].shape"
   ]
  },
  {
   "cell_type": "code",
   "execution_count": 12,
   "metadata": {
    "ExecuteTime": {
     "end_time": "2022-10-06T16:39:20.483027Z",
     "start_time": "2022-10-06T16:39:20.455770Z"
    }
   },
   "outputs": [],
   "source": [
    "ds_word_rel_clean = ds_relations[ds_relations.end_word != ''][['start_word', 'end_word', 'relation']]\n",
    "ds_word_rel_clean"
   ]
  },
  {
   "cell_type": "code",
   "execution_count": 19,
   "metadata": {
    "ExecuteTime": {
     "end_time": "2022-02-17T11:22:06.460308Z",
     "start_time": "2022-02-17T11:22:06.415892Z"
    }
   },
   "outputs": [],
   "source": [
    "ds_word_rel_clean.to_csv('arabic_word_relations.csv', ';', index=False, encoding='utf8')"
   ]
  },
  {
   "cell_type": "code",
   "execution_count": 13,
   "metadata": {
    "ExecuteTime": {
     "end_time": "2022-10-06T16:39:38.432423Z",
     "start_time": "2022-10-06T16:39:38.425170Z"
    }
   },
   "outputs": [],
   "source": [
    "\n",
    "Counter(ds_word_rel_clean.relation.values)"
   ]
  },
  {
   "cell_type": "markdown",
   "metadata": {},
   "source": [
    "# Build classifier"
   ]
  },
  {
   "cell_type": "markdown",
   "metadata": {},
   "source": [
    "## Compress classes"
   ]
  },
  {
   "cell_type": "code",
   "execution_count": 15,
   "metadata": {
    "ExecuteTime": {
     "end_time": "2022-10-06T16:42:09.380934Z",
     "start_time": "2022-10-06T16:42:09.359784Z"
    }
   },
   "outputs": [],
   "source": [
    "minor_cls = ['has_subevent', 'desires', 'causes_desire', 'not_desires', 'motivated_by_goal', 'has_first_subevent',\n",
    "             'symbol_of', 'is_a', 'distinct_from', 'similar_to', 'has_property', 'external_url']\n",
    "new_relations = [r if r not in minor_cls else 'minor' for r in ds_word_rel_clean.relation.values]\n",
    "new_relations"
   ]
  },
  {
   "cell_type": "code",
   "execution_count": 23,
   "metadata": {
    "ExecuteTime": {
     "end_time": "2022-10-08T09:14:02.601082Z",
     "start_time": "2022-10-08T09:14:02.595403Z"
    }
   },
   "outputs": [],
   "source": [
    "Counter(new_relations)"
   ]
  },
  {
   "cell_type": "markdown",
   "metadata": {},
   "source": [
    "## Vectorize"
   ]
  },
  {
   "cell_type": "code",
   "execution_count": 17,
   "metadata": {
    "ExecuteTime": {
     "end_time": "2022-10-06T16:42:30.892528Z",
     "start_time": "2022-10-06T16:42:23.056333Z"
    }
   },
   "outputs": [],
   "source": [
    "import fasttext\n",
    "import fasttext.util\n",
    "\n",
    "# download an english model\n",
    "model = fasttext.load_model('cc.ar.300.bin')"
   ]
  },
  {
   "cell_type": "code",
   "execution_count": 19,
   "metadata": {
    "ExecuteTime": {
     "end_time": "2022-10-06T16:43:04.747780Z",
     "start_time": "2022-10-06T16:43:04.575969Z"
    }
   },
   "outputs": [],
   "source": [
    "X = [np.concatenate((model.get_word_vector(sw), model.get_word_vector(ew))) for sw, ew in zip(ds_word_rel_clean.start_word.values, ds_word_rel_clean.end_word.values)]"
   ]
  },
  {
   "cell_type": "code",
   "execution_count": 20,
   "metadata": {
    "ExecuteTime": {
     "end_time": "2022-10-06T16:43:28.396087Z",
     "start_time": "2022-10-06T16:43:28.390480Z"
    }
   },
   "outputs": [],
   "source": [
    "X[0].shape"
   ]
  },
  {
   "cell_type": "code",
   "execution_count": 21,
   "metadata": {
    "ExecuteTime": {
     "end_time": "2022-10-06T16:43:34.340232Z",
     "start_time": "2022-10-06T16:43:34.335009Z"
    }
   },
   "outputs": [],
   "source": [
    "y = new_relations"
   ]
  },
  {
   "cell_type": "code",
   "execution_count": 22,
   "metadata": {
    "ExecuteTime": {
     "end_time": "2022-10-06T16:43:39.187623Z",
     "start_time": "2022-10-06T16:43:38.079284Z"
    }
   },
   "outputs": [],
   "source": [
    "from sklearn.model_selection import train_test_split\n",
    "X_train, X_test, y_train, y_test = train_test_split(X, y, test_size=0.33, random_state=42)"
   ]
  },
  {
   "cell_type": "code",
   "execution_count": null,
   "metadata": {},
   "outputs": [],
   "source": []
  },
  {
   "cell_type": "markdown",
   "metadata": {},
   "source": [
    "## Balance Dataset"
   ]
  },
  {
   "cell_type": "code",
   "execution_count": 26,
   "metadata": {
    "ExecuteTime": {
     "end_time": "2022-10-08T09:16:53.810413Z",
     "start_time": "2022-10-08T09:16:52.310749Z"
    }
   },
   "outputs": [],
   "source": [
    "from collections import Counter\n",
    "from sklearn.datasets import make_classification\n",
    "from imblearn.over_sampling import SMOTE "
   ]
  },
  {
   "cell_type": "code",
   "execution_count": 27,
   "metadata": {
    "ExecuteTime": {
     "end_time": "2022-10-08T09:16:57.688931Z",
     "start_time": "2022-10-08T09:16:56.304328Z"
    }
   },
   "outputs": [],
   "source": [
    "print('Original dataset shape %s' % Counter(y_train))\n",
    "sm = SMOTE(random_state=42)\n",
    "X_res, y_res = sm.fit_resample(X_train, y_train)\n",
    "print()\n",
    "print('Resampled dataset shape %s' % Counter(y_res))"
   ]
  },
  {
   "cell_type": "markdown",
   "metadata": {},
   "source": [
    "## Build model"
   ]
  },
  {
   "cell_type": "code",
   "execution_count": 28,
   "metadata": {
    "ExecuteTime": {
     "end_time": "2022-10-08T09:17:05.576750Z",
     "start_time": "2022-10-08T09:17:04.909074Z"
    }
   },
   "outputs": [],
   "source": [
    "from catboost import CatBoostClassifier"
   ]
  },
  {
   "cell_type": "code",
   "execution_count": 29,
   "metadata": {
    "ExecuteTime": {
     "end_time": "2022-10-08T09:19:05.817521Z",
     "start_time": "2022-10-08T09:17:08.839368Z"
    },
    "scrolled": true
   },
   "outputs": [],
   "source": [
    "cb_clf = CatBoostClassifier()\n",
    "cb_clf.fit(X_res, y_res)"
   ]
  },
  {
   "cell_type": "code",
   "execution_count": 30,
   "metadata": {
    "ExecuteTime": {
     "end_time": "2022-10-08T09:19:14.425301Z",
     "start_time": "2022-10-08T09:19:13.867688Z"
    }
   },
   "outputs": [],
   "source": [
    "cb_clf.score(X_test, y_test)"
   ]
  },
  {
   "cell_type": "code",
   "execution_count": 31,
   "metadata": {
    "ExecuteTime": {
     "end_time": "2022-10-08T09:19:19.065950Z",
     "start_time": "2022-10-08T09:19:18.488435Z"
    }
   },
   "outputs": [],
   "source": [
    "from sklearn.metrics import f1_score\n",
    "f1_score(y_test, cb_clf.predict(X_test), average='weighted')"
   ]
  },
  {
   "cell_type": "code",
   "execution_count": 24,
   "metadata": {
    "ExecuteTime": {
     "end_time": "2022-10-08T09:15:35.161852Z",
     "start_time": "2022-10-08T09:15:35.157975Z"
    }
   },
   "outputs": [],
   "source": [
    "from sklearn.metrics import confusion_matrix"
   ]
  },
  {
   "cell_type": "code",
   "execution_count": 32,
   "metadata": {
    "ExecuteTime": {
     "end_time": "2022-10-08T09:19:27.623977Z",
     "start_time": "2022-10-08T09:19:27.071951Z"
    }
   },
   "outputs": [],
   "source": [
    "y_pred = cb_clf.predict(X_test)"
   ]
  },
  {
   "cell_type": "code",
   "execution_count": 37,
   "metadata": {
    "ExecuteTime": {
     "end_time": "2022-10-08T09:21:52.476412Z",
     "start_time": "2022-10-08T09:21:52.465648Z"
    }
   },
   "outputs": [],
   "source": [
    "confusion_matrix(y_test, y_pred, labels=list(set(y_test)))"
   ]
  },
  {
   "cell_type": "code",
   "execution_count": 38,
   "metadata": {
    "ExecuteTime": {
     "end_time": "2022-10-08T09:22:21.149236Z",
     "start_time": "2022-10-08T09:22:21.139842Z"
    }
   },
   "outputs": [],
   "source": [
    "list(set(y_test))"
   ]
  },
  {
   "cell_type": "code",
   "execution_count": 39,
   "metadata": {
    "ExecuteTime": {
     "end_time": "2022-10-08T09:23:53.861768Z",
     "start_time": "2022-10-08T09:23:53.855360Z"
    }
   },
   "outputs": [],
   "source": [
    "Counter(y_test)"
   ]
  },
  {
   "cell_type": "code",
   "execution_count": 43,
   "metadata": {
    "ExecuteTime": {
     "end_time": "2022-10-08T11:35:46.123806Z",
     "start_time": "2022-10-08T11:35:46.073425Z"
    }
   },
   "outputs": [],
   "source": [
    "from sklearn.metrics import classification_report\n",
    "target_names = list(set(y_test)).sort()\n",
    "print(classification_report(y_test, y_pred, target_names=target_names))"
   ]
  },
  {
   "cell_type": "markdown",
   "metadata": {},
   "source": [
    "# Word distances"
   ]
  },
  {
   "cell_type": "code",
   "execution_count": 21,
   "metadata": {
    "ExecuteTime": {
     "end_time": "2022-02-24T13:23:55.233598Z",
     "start_time": "2022-02-24T13:22:46.957937Z"
    }
   },
   "outputs": [],
   "source": [
    "import fasttext\n",
    "import fasttext.util\n",
    "\n",
    "# download an english model\n",
    "model = fasttext.load_model('cc.ar.300.bin')"
   ]
  },
  {
   "cell_type": "code",
   "execution_count": 44,
   "metadata": {
    "ExecuteTime": {
     "end_time": "2022-10-08T13:33:49.584567Z",
     "start_time": "2022-10-08T13:33:49.529319Z"
    }
   },
   "outputs": [],
   "source": [
    "from scipy.spatial import distance\n"
   ]
  },
  {
   "cell_type": "code",
   "execution_count": 46,
   "metadata": {
    "ExecuteTime": {
     "end_time": "2022-10-08T13:35:52.652278Z",
     "start_time": "2022-10-08T13:35:52.647108Z"
    }
   },
   "outputs": [],
   "source": [
    "embedding_1 = [1, 0, 1]\n",
    "embedding_2 = [0, 1, 0]"
   ]
  },
  {
   "cell_type": "code",
   "execution_count": 47,
   "metadata": {
    "ExecuteTime": {
     "end_time": "2022-10-08T13:35:56.083270Z",
     "start_time": "2022-10-08T13:35:56.073213Z"
    }
   },
   "outputs": [],
   "source": [
    "distance.cosine(embedding_1, embedding_2)"
   ]
  },
  {
   "cell_type": "code",
   "execution_count": 48,
   "metadata": {
    "ExecuteTime": {
     "end_time": "2022-10-08T13:36:00.023992Z",
     "start_time": "2022-10-08T13:36:00.012808Z"
    }
   },
   "outputs": [],
   "source": [
    "distance.euclidean(embedding_1, embedding_2)"
   ]
  },
  {
   "cell_type": "code",
   "execution_count": 49,
   "metadata": {
    "ExecuteTime": {
     "end_time": "2022-10-08T13:36:17.917065Z",
     "start_time": "2022-10-08T13:36:16.590252Z"
    }
   },
   "outputs": [],
   "source": [
    "cos_dists = [distance.cosine(model.get_sentence_vector(sw), model.get_sentence_vector(ew)) for sw, ew in zip(tqdm(ds_word_rel_clean.start_word.values), ds_word_rel_clean.end_word.values)]\n",
    "ds_word_rel_clean['cos_dist'] = cos_dists"
   ]
  },
  {
   "cell_type": "code",
   "execution_count": 50,
   "metadata": {
    "ExecuteTime": {
     "end_time": "2022-10-08T13:36:23.906036Z",
     "start_time": "2022-10-08T13:36:23.891532Z"
    }
   },
   "outputs": [],
   "source": [
    "ds_word_rel_clean.describe()"
   ]
  },
  {
   "cell_type": "code",
   "execution_count": 51,
   "metadata": {
    "ExecuteTime": {
     "end_time": "2022-10-08T13:36:33.814535Z",
     "start_time": "2022-10-08T13:36:33.750474Z"
    }
   },
   "outputs": [],
   "source": [
    "ds_word_rel_clean.groupby('relation').mean()"
   ]
  },
  {
   "cell_type": "code",
   "execution_count": 52,
   "metadata": {
    "ExecuteTime": {
     "end_time": "2022-10-08T13:36:41.356995Z",
     "start_time": "2022-10-08T13:36:41.336715Z"
    }
   },
   "outputs": [],
   "source": [
    "ds_word_rel_clean.groupby('relation').std()"
   ]
  },
  {
   "cell_type": "code",
   "execution_count": 62,
   "metadata": {
    "ExecuteTime": {
     "end_time": "2022-10-08T13:58:13.356803Z",
     "start_time": "2022-10-08T13:58:13.154460Z"
    }
   },
   "outputs": [],
   "source": [
    "ds_word_rel_clean[ds_word_rel_clean.relation=='synonym'].cos_dist.hist()"
   ]
  },
  {
   "cell_type": "code",
   "execution_count": 63,
   "metadata": {
    "ExecuteTime": {
     "end_time": "2022-10-08T13:59:45.653709Z",
     "start_time": "2022-10-08T13:59:45.434091Z"
    }
   },
   "outputs": [],
   "source": [
    "ds_word_rel_clean[ds_word_rel_clean.relation=='antonym'].cos_dist.hist()"
   ]
  },
  {
   "cell_type": "code",
   "execution_count": 84,
   "metadata": {
    "ExecuteTime": {
     "end_time": "2022-10-08T15:02:53.603371Z",
     "start_time": "2022-10-08T15:02:53.598460Z"
    }
   },
   "outputs": [],
   "source": [
    "def get_relations(d):\n",
    "    #if d<= 0.238098 + 0.376707:\n",
    "    if d<= 0.1:\n",
    "        return 'synonym'\n",
    "    #elif (d <= 0.779119 + 0.182528) and (d >= 0.779119 - 0.182528):\n",
    "    elif (d <= 1.2) and (d >= 0.9):\n",
    "        return 'antonym'\n",
    "    else:\n",
    "        return 'unknown'"
   ]
  },
  {
   "cell_type": "markdown",
   "metadata": {},
   "source": [
    "## Test statistical approach"
   ]
  },
  {
   "cell_type": "code",
   "execution_count": 54,
   "metadata": {
    "ExecuteTime": {
     "end_time": "2022-10-08T13:41:57.634190Z",
     "start_time": "2022-10-08T13:41:57.620843Z"
    }
   },
   "outputs": [],
   "source": [
    "ds_word_rel_clean"
   ]
  },
  {
   "cell_type": "code",
   "execution_count": 85,
   "metadata": {
    "ExecuteTime": {
     "end_time": "2022-10-08T15:03:00.065157Z",
     "start_time": "2022-10-08T15:02:59.997941Z"
    }
   },
   "outputs": [],
   "source": [
    "true_values = [r if r in ['antonym','synonym'] else 'unknown' for r in tqdm(ds_word_rel_clean.relation.values)]\n",
    "predicts = [get_relations(d) for d in tqdm(ds_word_rel_clean.cos_dist.values)]"
   ]
  },
  {
   "cell_type": "code",
   "execution_count": 86,
   "metadata": {
    "ExecuteTime": {
     "end_time": "2022-10-08T15:03:05.938945Z",
     "start_time": "2022-10-08T15:03:05.908614Z"
    }
   },
   "outputs": [],
   "source": [
    "sum(np.array(true_values) == np.array(predicts))"
   ]
  },
  {
   "cell_type": "code",
   "execution_count": 87,
   "metadata": {
    "ExecuteTime": {
     "end_time": "2022-10-08T15:03:11.049929Z",
     "start_time": "2022-10-08T15:03:10.998972Z"
    }
   },
   "outputs": [],
   "source": [
    "target_names = list(set(true_values)).sort()\n",
    "print(classification_report(true_values, predicts, target_names=target_names))"
   ]
  },
  {
   "cell_type": "code",
   "execution_count": null,
   "metadata": {},
   "outputs": [],
   "source": []
  },
  {
   "cell_type": "markdown",
   "metadata": {},
   "source": [
    "# Voting"
   ]
  },
  {
   "cell_type": "code",
   "execution_count": 93,
   "metadata": {
    "ExecuteTime": {
     "end_time": "2022-10-08T15:09:12.103270Z",
     "start_time": "2022-10-08T15:09:12.045599Z"
    }
   },
   "outputs": [],
   "source": [
    "y_pred_3val = [r[0] if r in ['antonym','synonym'] else 'unknown' for r in tqdm(list(y_pred))]\n",
    "y_pred_3val"
   ]
  },
  {
   "cell_type": "code",
   "execution_count": 96,
   "metadata": {
    "ExecuteTime": {
     "end_time": "2022-10-08T15:11:04.435589Z",
     "start_time": "2022-10-08T15:11:04.427046Z"
    }
   },
   "outputs": [],
   "source": [
    "len(y_pred_3val)"
   ]
  },
  {
   "cell_type": "code",
   "execution_count": 98,
   "metadata": {
    "ExecuteTime": {
     "end_time": "2022-10-08T15:15:00.152385Z",
     "start_time": "2022-10-08T15:15:00.147020Z"
    }
   },
   "outputs": [],
   "source": [
    "X_train2, X_test2, y_train2, y_test2 = train_test_split(ds_word_rel_clean.cos_dist.values, ds_word_rel_clean.relation.values, test_size=0.33, random_state=42)"
   ]
  },
  {
   "cell_type": "code",
   "execution_count": 99,
   "metadata": {
    "ExecuteTime": {
     "end_time": "2022-10-08T15:15:44.013329Z",
     "start_time": "2022-10-08T15:15:43.977841Z"
    }
   },
   "outputs": [],
   "source": [
    "predicts2 = [get_relations(d) for d in tqdm(X_test2)]"
   ]
  },
  {
   "cell_type": "code",
   "execution_count": 104,
   "metadata": {
    "ExecuteTime": {
     "end_time": "2022-10-08T15:23:12.029176Z",
     "start_time": "2022-10-08T15:23:12.013632Z"
    }
   },
   "outputs": [],
   "source": [
    "fltr = (np.array(predicts2) == np.array(y_test))&(np.array(y_pred_3val) == np.array(y_test))\n",
    "sum(fltr)"
   ]
  },
  {
   "cell_type": "code",
   "execution_count": 110,
   "metadata": {
    "ExecuteTime": {
     "end_time": "2022-10-08T15:26:46.991551Z",
     "start_time": "2022-10-08T15:26:46.981465Z"
    }
   },
   "outputs": [],
   "source": [
    "Counter(np.array(predicts2)[fltr])"
   ]
  },
  {
   "cell_type": "code",
   "execution_count": 207,
   "metadata": {
    "ExecuteTime": {
     "end_time": "2022-10-10T02:39:01.421783Z",
     "start_time": "2022-10-10T02:39:01.399232Z"
    }
   },
   "outputs": [],
   "source": [
    "ds_antonyms = ds_word_rel_clean[ds_word_rel_clean.relation=='antonym']\n",
    "ds_antonyms"
   ]
  },
  {
   "cell_type": "markdown",
   "metadata": {},
   "source": [
    "# HLPL"
   ]
  },
  {
   "cell_type": "raw",
   "metadata": {},
   "source": [
    "https://pypi.org/project/hlpl-arabic-words-synonym-antonym/"
   ]
  },
  {
   "cell_type": "code",
   "execution_count": 1,
   "metadata": {
    "ExecuteTime": {
     "end_time": "2022-10-11T03:26:08.163925Z",
     "start_time": "2022-10-11T03:26:06.981439Z"
    }
   },
   "outputs": [],
   "source": [
    "from hlpl_arabic_words_synonym_antonym import arabic_words_synonym_antonym\n",
    "hlpl_list_n,hlpl_list_v,conn=arabic_words_synonym_antonym.get()"
   ]
  },
  {
   "cell_type": "code",
   "execution_count": 2,
   "metadata": {
    "ExecuteTime": {
     "end_time": "2022-10-11T03:26:11.446384Z",
     "start_time": "2022-10-11T03:26:11.429101Z"
    },
    "scrolled": true
   },
   "outputs": [],
   "source": [
    "hlpl_list_v[0][2].split(',')"
   ]
  },
  {
   "cell_type": "markdown",
   "metadata": {},
   "source": [
    "## Assemble a dictionary"
   ]
  },
  {
   "cell_type": "markdown",
   "metadata": {},
   "source": [
    "### Verbs"
   ]
  },
  {
   "cell_type": "code",
   "execution_count": 23,
   "metadata": {
    "ExecuteTime": {
     "end_time": "2022-10-11T04:25:40.627644Z",
     "start_time": "2022-10-11T04:25:16.113598Z"
    }
   },
   "outputs": [],
   "source": [
    "ant_syn_dic = []\n",
    "for w in tqdm(hlpl_list_v):\n",
    "    word = w[0].strip()\n",
    "    print('word:', word)\n",
    "    \n",
    "    synonyms = [s.strip() for s in w[1].split(',')]\n",
    "    print('synonyms:', synonyms)\n",
    "    for syn in synonyms:\n",
    "        if syn != '':\n",
    "            ant_syn_dic.append([word, syn, 'synonym'])\n",
    "            #print([word, syn, 'synonym'])\n",
    "    \n",
    "    antonyms = [a.strip() for a in w[2].split(',')]\n",
    "    print('antonyms:', antonyms)\n",
    "    for ant in antonyms:\n",
    "        if ant != '':\n",
    "            ant_syn_dic.append([word, ant, 'antonym'])\n",
    "            #print([word, ant, 'antonym'])\n",
    "        "
   ]
  },
  {
   "cell_type": "markdown",
   "metadata": {},
   "source": [
    "### Nouns"
   ]
  },
  {
   "cell_type": "code",
   "execution_count": 24,
   "metadata": {
    "ExecuteTime": {
     "end_time": "2022-10-11T04:26:36.047566Z",
     "start_time": "2022-10-11T04:26:01.494481Z"
    }
   },
   "outputs": [],
   "source": [
    "for w in tqdm(hlpl_list_n):\n",
    "    word = w[0].strip()\n",
    "    print('word:', word)\n",
    "    \n",
    "    synonyms = [s.strip() for s in w[1].split(',')]\n",
    "    print('synonyms:', synonyms)\n",
    "    for syn in synonyms:\n",
    "        if syn != '':\n",
    "            ant_syn_dic.append([word, syn, 'synonym'])\n",
    "            #print([word, syn, 'synonym'])\n",
    "    \n",
    "    antonyms = [a.strip() for a in w[2].split(',')]\n",
    "    print('antonyms:', antonyms)\n",
    "    for ant in antonyms:\n",
    "        if ant != '':\n",
    "            ant_syn_dic.append([word, ant, 'antonym'])\n",
    "            #print([word, ant, 'antonym'])\n"
   ]
  },
  {
   "cell_type": "code",
   "execution_count": null,
   "metadata": {
    "ExecuteTime": {
     "end_time": "2022-10-11T06:10:13.890757Z",
     "start_time": "2022-10-11T06:10:12.411196Z"
    }
   },
   "outputs": [],
   "source": [
    "ds_ant_syn_dic = pd.DataFrame(ant_syn_dic, columns=['start_word', 'end_word', 'relation'])"
   ]
  },
  {
   "cell_type": "code",
   "execution_count": 55,
   "metadata": {
    "ExecuteTime": {
     "end_time": "2022-10-11T06:12:03.519594Z",
     "start_time": "2022-10-11T06:10:52.252980Z"
    }
   },
   "outputs": [],
   "source": [
    "# clean the words of diacritics\n",
    "ds_ant_syn_dic['start_word_cln'] = [araby.strip_diacritics(w) for w in tqdm(ds_ant_syn_dic.start_word.values)]\n",
    "ds_ant_syn_dic['end_word_cln'] = [araby.strip_diacritics(w) for w in tqdm(ds_ant_syn_dic.end_word.values)]\n",
    "\n",
    "# word lengths\n",
    "ds_ant_syn_dic['sw_len'] = [len(w) for w in tqdm(ds_ant_syn_dic.start_word_cln.values)]\n",
    "ds_ant_syn_dic['ew_len'] = [len(w) for w in tqdm(ds_ant_syn_dic.end_word_cln.values)]"
   ]
  },
  {
   "cell_type": "code",
   "execution_count": 56,
   "metadata": {
    "ExecuteTime": {
     "end_time": "2022-10-11T06:12:03.536692Z",
     "start_time": "2022-10-11T06:12:03.521999Z"
    }
   },
   "outputs": [],
   "source": [
    "ds_ant_syn_dic.head()"
   ]
  },
  {
   "cell_type": "code",
   "execution_count": 57,
   "metadata": {
    "ExecuteTime": {
     "end_time": "2022-10-11T06:12:03.574564Z",
     "start_time": "2022-10-11T06:12:03.538794Z"
    }
   },
   "outputs": [],
   "source": [
    "ds_ant_syn_dic.shape"
   ]
  },
  {
   "cell_type": "code",
   "execution_count": 59,
   "metadata": {
    "ExecuteTime": {
     "end_time": "2022-10-11T06:19:42.780842Z",
     "start_time": "2022-10-11T06:19:42.141182Z"
    }
   },
   "outputs": [],
   "source": [
    "ds_ant_syn_dic = ds_ant_syn_dic[(ds_ant_syn_dic.sw_len <= 12)&(ds_ant_syn_dic.ew_len <= 12)]\n",
    "print(ds_ant_syn_dic.shape)\n",
    "ds_ant_syn_dic.head()"
   ]
  },
  {
   "cell_type": "markdown",
   "metadata": {
    "ExecuteTime": {
     "end_time": "2022-10-10T03:09:38.533893Z",
     "start_time": "2022-10-10T03:09:38.525260Z"
    }
   },
   "source": [
    "## Stem the words"
   ]
  },
  {
   "cell_type": "code",
   "execution_count": 30,
   "metadata": {
    "ExecuteTime": {
     "end_time": "2022-10-11T04:59:44.474858Z",
     "start_time": "2022-10-11T04:59:41.970630Z"
    }
   },
   "outputs": [],
   "source": [
    "#TODO clean unneeded imports\n",
    "import pandas as pd\n",
    "import numpy as np\n",
    "from nltk import word_tokenize\n",
    "import re\n",
    "\n",
    "from sklearn.feature_extraction.text import TfidfVectorizer, CountVectorizer\n",
    "#from sklearn.linear_model import LogisticRegression, LinearRegression, Lars, RidgeCV\n",
    "#from sklearn.svm import SVC, SVR\n",
    "from sklearn.model_selection import cross_val_score\n",
    "from sklearn.ensemble import GradientBoostingClassifier, RandomForestClassifier, ExtraTreesClassifier\n",
    "from sklearn.neighbors import KNeighborsClassifier\n",
    "from sklearn.tree import DecisionTreeClassifier\n",
    "from sklearn.multioutput import MultiOutputClassifier\n",
    "\n",
    "from sklearn.model_selection import RandomizedSearchCV, GridSearchCV, train_test_split, cross_val_score\n",
    "\n",
    "from tqdm import tnrange, tqdm_notebook\n",
    "from time import sleep\n",
    "import gc\n",
    "\n",
    "from matplotlib import pyplot as plt\n",
    "import os\n",
    "\n",
    "from sklearn.feature_extraction.text import TfidfVectorizer"
   ]
  },
  {
   "cell_type": "code",
   "execution_count": 51,
   "metadata": {
    "ExecuteTime": {
     "end_time": "2022-10-11T05:31:01.642623Z",
     "start_time": "2022-10-11T05:31:01.615725Z"
    }
   },
   "outputs": [],
   "source": [
    "# def get_lang(lang_code):\n",
    "#     ds=pd.read_csv('lang_codes_dic.csv',';')\n",
    "#     try:\n",
    "#         return ds[ds.Code==lang_code].iloc[0,1]\n",
    "#     except:\n",
    "#         return 'Undefined'\n",
    "\n",
    "\n",
    "#vec encoding of words\n",
    "def alpha_vec2(w, mx, max_word_len, dic):\n",
    "    vec=np.zeros((max_word_len,len(dic)))    \n",
    "    for i in range(0, min(len(w), max_word_len)):\n",
    "        #print(i,w[i])\n",
    "        if w[i] in dic:\n",
    "            vec[i]=mx[dic.index(w[i])]\n",
    "        \n",
    "    vec=vec.astype('float16').flatten()\n",
    "    vec[vec==np.inf]=0 \n",
    "    vec[vec==-np.inf]=0        \n",
    "    return vec\n",
    "\n",
    "\n",
    "#ordinal encoding of words\n",
    "def alpha_vec2ord(w, max_word_len):\n",
    "    vec=np.zeros(max_word_len)    \n",
    "    for i in range(0, len(w)):        \n",
    "        vec[i]=ord(w[i])    \n",
    "    return vec.astype('int')\n",
    "\n",
    "\n",
    "#ordinal decoding of words\n",
    "def decode_vec(vec):\n",
    "    w=''.join([chr(int(v)) for v in vec if v!=0])    \n",
    "    return w.strip()\n",
    "\n",
    "\n",
    "def stemm_model():\n",
    "    #load data\n",
    "    #lex = pd.read_csv('DS_lemm/'+ dictionary_file,'\\t', encoding='utf8', names=['Lemma','Word_form'], keep_default_na=False)\n",
    "    #lang_code=dictionary_file[dictionary_file.index('-')+1:-4]\n",
    "    lang='AR' #get_lang(lang_code)\n",
    "    print('Language: ', lang)\n",
    "    number_words = ds.shape[0]\n",
    "    \n",
    "    X_lex=ds['FORM_ar'].str.strip()\n",
    "    X_lex=X_lex.values\n",
    "    \n",
    "    Y_lex=ds['ROOT_ar'].str.strip()\n",
    "    Y_lex=Y_lex.values\n",
    "    \n",
    "    X_train, X_test, y_train, y_test = train_test_split(X_lex, Y_lex, test_size=0.1, random_state=42)\n",
    "    \n",
    "    #get max word length\n",
    "    max_word_len=max(max([len(w) for w in Y_lex]),max([len(w) for w in X_lex]))\n",
    "    \n",
    "    #Char2vec model\n",
    "    vectorizer = TfidfVectorizer(lowercase=False, analyzer='char')\n",
    "    X = vectorizer.fit_transform(X_lex)\n",
    "    dic=vectorizer.get_feature_names()#letter dictionary\n",
    "    num_letters=len(dic)\n",
    "    mx=X.T.dot(X)#letter cooccurence matrix\n",
    "    mx=mx.toarray()\n",
    "    \n",
    "    #Vectorize\n",
    "    X_lex_vec_train=[alpha_vec2(w, mx, max_word_len, dic) for w in X_train]\n",
    "    Y_lex_vec_train=[alpha_vec2ord(w, max_word_len) for w in y_train]\n",
    "    \n",
    "    X_lex_vec_test=[alpha_vec2(w, mx, max_word_len, dic) for w in X_test]\n",
    "    Y_lex_vec_test=[alpha_vec2ord(w, max_word_len) for w in y_test]\n",
    "    \n",
    "    #Build model\n",
    "    best_model=RandomForestClassifier(n_estimators=10, n_jobs=5, criterion='entropy', bootstrap=True, random_state=42)\n",
    "    \n",
    "    best_model.fit(X_lex_vec_train, Y_lex_vec_train)\n",
    "    \n",
    "    #Test\n",
    "    predicts_test=best_model.predict(X_lex_vec_test)\n",
    "    predicts_train=best_model.predict(X_lex_vec_train)\n",
    "    test_acc=sum([sum(p==y)==max_word_len for p,y in zip(predicts_test, Y_lex_vec_test)])/len(predicts_test)\n",
    "    train_acc=sum([sum(p==y)==max_word_len for p,y in zip(predicts_train, Y_lex_vec_train)])/len(predicts_train)\n",
    "    \n",
    "    #Return results\n",
    "    return test_acc, train_acc, max_word_len, num_letters, number_words, lang, X_test, y_test, predicts_test, best_model"
   ]
  },
  {
   "cell_type": "code",
   "execution_count": 38,
   "metadata": {
    "ExecuteTime": {
     "end_time": "2022-10-11T05:16:23.895375Z",
     "start_time": "2022-10-11T05:16:21.517296Z"
    }
   },
   "outputs": [],
   "source": [
    "model = load_obj('ar_stem_model_RandForest')\n",
    "mx = load_obj('ar_mx')\n",
    "dic = load_obj('ar_dic')\n",
    "max_word_len = 12"
   ]
  },
  {
   "cell_type": "code",
   "execution_count": 39,
   "metadata": {
    "ExecuteTime": {
     "end_time": "2022-10-11T05:16:26.063412Z",
     "start_time": "2022-10-11T05:16:26.057758Z"
    },
    "scrolled": true
   },
   "outputs": [],
   "source": [
    "dic"
   ]
  },
  {
   "cell_type": "code",
   "execution_count": 60,
   "metadata": {
    "ExecuteTime": {
     "end_time": "2022-10-11T06:29:46.387336Z",
     "start_time": "2022-10-11T06:25:33.471505Z"
    }
   },
   "outputs": [],
   "source": [
    "#Vectorize\n",
    "X_start_word = [alpha_vec2(w, mx, max_word_len, dic) for w in tqdm(ds_ant_syn_dic.start_word_cln.values)]\n",
    "X_end_word = [alpha_vec2(w, mx, max_word_len, dic) for w in tqdm(ds_ant_syn_dic.end_word_cln.values)]"
   ]
  },
  {
   "cell_type": "code",
   "execution_count": 61,
   "metadata": {
    "ExecuteTime": {
     "end_time": "2022-10-11T06:34:27.942683Z",
     "start_time": "2022-10-11T06:29:46.389341Z"
    }
   },
   "outputs": [],
   "source": [
    "sw_root_vecs = model.predict(X_start_word)\n",
    "ew_root_vecs = model.predict(X_end_word)"
   ]
  },
  {
   "cell_type": "code",
   "execution_count": 62,
   "metadata": {
    "ExecuteTime": {
     "end_time": "2022-10-11T06:35:30.199442Z",
     "start_time": "2022-10-11T06:34:27.945777Z"
    }
   },
   "outputs": [],
   "source": [
    "ds_ant_syn_dic['sw_root'] = [decode_vec(x) for x in tqdm(sw_root_vecs)]\n",
    "ds_ant_syn_dic['ew_root'] = [decode_vec(x) for x in tqdm(ew_root_vecs)]"
   ]
  },
  {
   "cell_type": "code",
   "execution_count": 63,
   "metadata": {
    "ExecuteTime": {
     "end_time": "2022-10-11T06:35:30.217250Z",
     "start_time": "2022-10-11T06:35:30.201992Z"
    }
   },
   "outputs": [],
   "source": [
    "ds_ant_syn_dic.head()"
   ]
  },
  {
   "cell_type": "code",
   "execution_count": 71,
   "metadata": {
    "ExecuteTime": {
     "end_time": "2022-10-11T06:57:03.300627Z",
     "start_time": "2022-10-11T06:57:03.291588Z"
    }
   },
   "outputs": [],
   "source": [
    "# Check for root permutation occurences\n",
    "def perm(w1, w2):\n",
    "    if w1 == w2:\n",
    "        return False\n",
    "    set1 = set([c for c in w1])\n",
    "    set2 = set([c for c in w2])\n",
    "    return set1 == set2\n",
    "\n",
    "perm('abs', 'baa')"
   ]
  },
  {
   "cell_type": "code",
   "execution_count": 72,
   "metadata": {
    "ExecuteTime": {
     "end_time": "2022-10-11T06:57:18.282636Z",
     "start_time": "2022-10-11T06:57:09.675609Z"
    }
   },
   "outputs": [],
   "source": [
    "ds_ant_syn_dic['root_perm'] = [perm(w1, w2) for w1, w2 in zip(tqdm(ds_ant_syn_dic.sw_root.values), ds_ant_syn_dic.ew_root.values)]"
   ]
  },
  {
   "cell_type": "code",
   "execution_count": 73,
   "metadata": {
    "ExecuteTime": {
     "end_time": "2022-10-11T06:57:18.295012Z",
     "start_time": "2022-10-11T06:57:18.285133Z"
    }
   },
   "outputs": [],
   "source": [
    "ds_ant_syn_dic['root_perm'].values.sum()"
   ]
  },
  {
   "cell_type": "code",
   "execution_count": 74,
   "metadata": {
    "ExecuteTime": {
     "end_time": "2022-10-11T06:57:26.144287Z",
     "start_time": "2022-10-11T06:57:26.105649Z"
    }
   },
   "outputs": [],
   "source": [
    "ds_ant_syn_dic[ds_ant_syn_dic['root_perm'] == True]"
   ]
  },
  {
   "cell_type": "code",
   "execution_count": 75,
   "metadata": {
    "ExecuteTime": {
     "end_time": "2022-10-11T07:24:07.130593Z",
     "start_time": "2022-10-11T07:24:07.090416Z"
    }
   },
   "outputs": [],
   "source": [
    "save_obj(ds_ant_syn_dic[ds_ant_syn_dic['root_perm'] == True], 'hlpl_root_perm_ant_syn')"
   ]
  },
  {
   "cell_type": "code",
   "execution_count": 80,
   "metadata": {
    "ExecuteTime": {
     "end_time": "2022-10-11T07:33:47.353635Z",
     "start_time": "2022-10-11T07:33:30.641379Z"
    }
   },
   "outputs": [],
   "source": [
    "save_obj(ds_ant_syn_dic, 'hlpl_root_perm_all')"
   ]
  },
  {
   "cell_type": "code",
   "execution_count": 76,
   "metadata": {
    "ExecuteTime": {
     "end_time": "2022-10-11T07:25:50.045775Z",
     "start_time": "2022-10-11T07:25:49.037358Z"
    }
   },
   "outputs": [],
   "source": [
    "ds_ant_syn_dic[ds_ant_syn_dic['root_perm'] == True].to_excel('hlpl_root_perm_ant_syn.xlsx')"
   ]
  },
  {
   "cell_type": "code",
   "execution_count": 79,
   "metadata": {
    "ExecuteTime": {
     "end_time": "2022-10-11T07:31:34.023997Z",
     "start_time": "2022-10-11T07:31:33.996248Z"
    }
   },
   "outputs": [],
   "source": [
    "Counter(ds_ant_syn_dic[ds_ant_syn_dic['root_perm'] == True].relation.values)"
   ]
  },
  {
   "cell_type": "code",
   "execution_count": null,
   "metadata": {},
   "outputs": [],
   "source": []
  },
  {
   "cell_type": "markdown",
   "metadata": {},
   "source": [
    "# Relations in root letter permutations"
   ]
  },
  {
   "cell_type": "markdown",
   "metadata": {},
   "source": [
    "## Load data"
   ]
  },
  {
   "cell_type": "code",
   "execution_count": 111,
   "metadata": {
    "ExecuteTime": {
     "end_time": "2022-10-08T15:27:48.627809Z",
     "start_time": "2022-10-08T15:27:48.101553Z"
    }
   },
   "outputs": [],
   "source": [
    "df = pd.read_csv('Roots_permutations.csv')\n",
    "df.head()"
   ]
  },
  {
   "cell_type": "code",
   "execution_count": 112,
   "metadata": {
    "ExecuteTime": {
     "end_time": "2022-10-08T15:27:56.057580Z",
     "start_time": "2022-10-08T15:27:56.012045Z"
    }
   },
   "outputs": [],
   "source": [
    "df = df[df['Valid_permutations'] != '[]']\n",
    "df"
   ]
  },
  {
   "cell_type": "code",
   "execution_count": 113,
   "metadata": {
    "ExecuteTime": {
     "end_time": "2022-10-08T15:28:02.291832Z",
     "start_time": "2022-10-08T15:28:01.821794Z"
    }
   },
   "outputs": [],
   "source": [
    "perms = [rc.replace('[','').replace(']','').replace(\"'\",'').split(',') for rc in df['Valid_permutations'].values]\n",
    "perms"
   ]
  },
  {
   "cell_type": "markdown",
   "metadata": {},
   "source": [
    "## Make pairs"
   ]
  },
  {
   "cell_type": "code",
   "execution_count": 114,
   "metadata": {
    "ExecuteTime": {
     "end_time": "2022-10-08T15:28:24.716601Z",
     "start_time": "2022-10-08T15:28:09.875639Z"
    }
   },
   "outputs": [],
   "source": [
    "word_pairs = []\n",
    "\n",
    "for root, combs in zip(tqdm(df.ROOT_ar.values), perms):\n",
    "    for c in combs:\n",
    "        word_pairs.append([root, c])\n",
    "        print([root, c])\n",
    "    "
   ]
  },
  {
   "cell_type": "code",
   "execution_count": 115,
   "metadata": {
    "ExecuteTime": {
     "end_time": "2022-10-08T15:28:34.367633Z",
     "start_time": "2022-10-08T15:28:34.363253Z"
    }
   },
   "outputs": [],
   "source": [
    "len(word_pairs)"
   ]
  },
  {
   "cell_type": "code",
   "execution_count": 116,
   "metadata": {
    "ExecuteTime": {
     "end_time": "2022-10-08T15:28:42.983186Z",
     "start_time": "2022-10-08T15:28:42.922485Z"
    }
   },
   "outputs": [],
   "source": [
    "word_pairs_clean = list(set([(a[0], a[1]) for a in word_pairs]))\n",
    "word_pairs_clean"
   ]
  },
  {
   "cell_type": "markdown",
   "metadata": {},
   "source": [
    "## Vectorize pairs"
   ]
  },
  {
   "cell_type": "code",
   "execution_count": 117,
   "metadata": {
    "ExecuteTime": {
     "end_time": "2022-10-08T15:29:13.589038Z",
     "start_time": "2022-10-08T15:29:12.843917Z"
    }
   },
   "outputs": [],
   "source": [
    "vec_pairs = []\n",
    "vec_dists = []\n",
    "X2 = []\n",
    "for p in word_pairs_clean:\n",
    "    vec1 = model.get_word_vector(p[0])\n",
    "    vec2 = model.get_word_vector(p[1])\n",
    "    X2.append(np.concatenate((vec1, vec2)))\n",
    "    vec_pairs.append([vec1, vec2])\n",
    "    vec_dists.append(distance.cosine(vec1, vec2))\n"
   ]
  },
  {
   "cell_type": "markdown",
   "metadata": {},
   "source": [
    "## Predict statistical"
   ]
  },
  {
   "cell_type": "code",
   "execution_count": 118,
   "metadata": {
    "ExecuteTime": {
     "end_time": "2022-10-08T15:29:29.773927Z",
     "start_time": "2022-10-08T15:29:29.766835Z"
    }
   },
   "outputs": [],
   "source": [
    "vec_dists[:10]"
   ]
  },
  {
   "cell_type": "code",
   "execution_count": 119,
   "metadata": {
    "ExecuteTime": {
     "end_time": "2022-10-08T15:29:43.002674Z",
     "start_time": "2022-10-08T15:29:42.984231Z"
    }
   },
   "outputs": [],
   "source": [
    "relations_def = [get_relations(d) for d in vec_dists]\n",
    "relations_def"
   ]
  },
  {
   "cell_type": "code",
   "execution_count": 120,
   "metadata": {
    "ExecuteTime": {
     "end_time": "2022-10-08T15:30:00.530486Z",
     "start_time": "2022-10-08T15:30:00.523101Z"
    }
   },
   "outputs": [],
   "source": [
    "Counter(relations_def)"
   ]
  },
  {
   "cell_type": "markdown",
   "metadata": {},
   "source": [
    "## Predict with ML"
   ]
  },
  {
   "cell_type": "code",
   "execution_count": 121,
   "metadata": {
    "ExecuteTime": {
     "end_time": "2022-10-08T15:31:19.971666Z",
     "start_time": "2022-10-08T15:31:18.693164Z"
    }
   },
   "outputs": [],
   "source": [
    "y2 = cb_clf.predict(X2)\n",
    "y2"
   ]
  },
  {
   "cell_type": "code",
   "execution_count": 122,
   "metadata": {
    "ExecuteTime": {
     "end_time": "2022-10-08T15:31:25.292171Z",
     "start_time": "2022-10-08T15:31:25.285369Z"
    }
   },
   "outputs": [],
   "source": [
    "Counter([i[0] for i in y2])"
   ]
  },
  {
   "cell_type": "code",
   "execution_count": 123,
   "metadata": {
    "ExecuteTime": {
     "end_time": "2022-10-08T15:32:26.123319Z",
     "start_time": "2022-10-08T15:32:26.101562Z"
    }
   },
   "outputs": [],
   "source": [
    "res_ds = pd.DataFrame(word_pairs_clean, columns=['word1', 'word2'])\n",
    "res_ds['relations_stat_appr'] = relations_def\n",
    "res_ds['relations_ML_appr'] = [i[0] for i in y2]\n",
    "res_ds"
   ]
  },
  {
   "cell_type": "code",
   "execution_count": 108,
   "metadata": {
    "ExecuteTime": {
     "end_time": "2022-02-24T17:13:53.338793Z",
     "start_time": "2022-02-24T17:13:53.327313Z"
    }
   },
   "outputs": [],
   "source": [
    "save_obj(res_ds, 'res_ds')"
   ]
  },
  {
   "cell_type": "code",
   "execution_count": 111,
   "metadata": {
    "ExecuteTime": {
     "end_time": "2022-02-25T10:28:55.144383Z",
     "start_time": "2022-02-25T10:28:55.127509Z"
    }
   },
   "outputs": [],
   "source": [
    "res_ds"
   ]
  },
  {
   "cell_type": "code",
   "execution_count": 112,
   "metadata": {
    "ExecuteTime": {
     "end_time": "2022-02-25T10:31:37.480407Z",
     "start_time": "2022-02-25T10:31:37.471312Z"
    }
   },
   "outputs": [],
   "source": [
    "translations = {word:trans for word, trans in zip(df.ROOT_ar.values, df.GLOSS.values)}"
   ]
  },
  {
   "cell_type": "code",
   "execution_count": 116,
   "metadata": {
    "ExecuteTime": {
     "end_time": "2022-02-25T10:34:35.794476Z",
     "start_time": "2022-02-25T10:34:35.788000Z"
    }
   },
   "outputs": [],
   "source": [
    "translations['زغر']"
   ]
  },
  {
   "cell_type": "code",
   "execution_count": 117,
   "metadata": {
    "ExecuteTime": {
     "end_time": "2022-02-25T10:34:57.124968Z",
     "start_time": "2022-02-25T10:34:57.100480Z"
    },
    "scrolled": true
   },
   "outputs": [],
   "source": [
    "res_ds['w1_trans'] = [translations[w.strip()] for w in res_ds.word1.values]\n",
    "res_ds['w2_trans'] = [translations[w.strip()] for w in res_ds.word2.values]\n",
    "res_ds"
   ]
  },
  {
   "cell_type": "code",
   "execution_count": 118,
   "metadata": {
    "ExecuteTime": {
     "end_time": "2022-02-25T10:38:42.302446Z",
     "start_time": "2022-02-25T10:38:42.233452Z"
    }
   },
   "outputs": [],
   "source": [
    "res_ds.to_csv('res_ds.csv', index=False, encoding='utf8')"
   ]
  },
  {
   "cell_type": "code",
   "execution_count": 128,
   "metadata": {
    "ExecuteTime": {
     "end_time": "2022-02-25T11:22:02.180454Z",
     "start_time": "2022-02-25T11:22:02.149765Z"
    }
   },
   "outputs": [],
   "source": [
    "res_sample = res_ds.groupby('relations_ML_appr').apply(lambda s: s.sample(min(len(s), 10), random_state=2022))\n",
    "res_sample"
   ]
  },
  {
   "cell_type": "code",
   "execution_count": 129,
   "metadata": {
    "ExecuteTime": {
     "end_time": "2022-02-25T11:23:08.520060Z",
     "start_time": "2022-02-25T11:23:08.196717Z"
    }
   },
   "outputs": [],
   "source": [
    "res_sample.to_excel(\"res_sample.xlsx\") "
   ]
  },
  {
   "cell_type": "markdown",
   "metadata": {},
   "source": [
    "# Antonym and Synonym character distribution"
   ]
  },
  {
   "cell_type": "code",
   "execution_count": 120,
   "metadata": {
    "ExecuteTime": {
     "end_time": "2022-10-11T12:41:27.243618Z",
     "start_time": "2022-10-11T12:41:27.234629Z"
    }
   },
   "outputs": [],
   "source": [
    "shams = [0, 0, 1, 0, 0, 0, 1, 1, 1, 1, 1, 1, 1, 1, 1, 1, 0, 0, 0, 0, 0, 1, 0, 1, 0, 0, 0]\n",
    "sum(shams)"
   ]
  },
  {
   "cell_type": "markdown",
   "metadata": {},
   "source": [
    "## Ara Morph root permutations"
   ]
  },
  {
   "cell_type": "code",
   "execution_count": 121,
   "metadata": {
    "ExecuteTime": {
     "end_time": "2022-10-11T12:41:28.946152Z",
     "start_time": "2022-10-11T12:41:28.921887Z"
    }
   },
   "outputs": [],
   "source": [
    "char_dist_ds = pd.read_csv('ant_syn_char_dist.csv',';')\n",
    "char_dist_ds"
   ]
  },
  {
   "cell_type": "code",
   "execution_count": 122,
   "metadata": {
    "ExecuteTime": {
     "end_time": "2022-10-11T12:41:29.694733Z",
     "start_time": "2022-10-11T12:41:29.687538Z"
    }
   },
   "outputs": [],
   "source": [
    "Counter(char_dist_ds.relations_ML_appr.values)"
   ]
  },
  {
   "cell_type": "code",
   "execution_count": 123,
   "metadata": {
    "ExecuteTime": {
     "end_time": "2022-10-11T12:41:30.449165Z",
     "start_time": "2022-10-11T12:41:30.440901Z"
    }
   },
   "outputs": [],
   "source": [
    "Counter(char_dist_ds.relations_stat_appr.values)"
   ]
  },
  {
   "cell_type": "code",
   "execution_count": 124,
   "metadata": {
    "ExecuteTime": {
     "end_time": "2022-10-11T12:41:31.134865Z",
     "start_time": "2022-10-11T12:41:31.127352Z"
    }
   },
   "outputs": [],
   "source": [
    "syns = list(char_dist_ds[char_dist_ds.relations_ML_appr == 'synonym'].word1.values) + list(char_dist_ds[char_dist_ds.relations_ML_appr == 'synonym'].word2.values)\n",
    "syns = list(set([w.strip() for w in syns]))\n",
    "syns"
   ]
  },
  {
   "cell_type": "code",
   "execution_count": 125,
   "metadata": {
    "ExecuteTime": {
     "end_time": "2022-10-11T12:41:31.883253Z",
     "start_time": "2022-10-11T12:41:31.879678Z"
    }
   },
   "outputs": [],
   "source": [
    "len(syns)"
   ]
  },
  {
   "cell_type": "code",
   "execution_count": 126,
   "metadata": {
    "ExecuteTime": {
     "end_time": "2022-10-11T12:41:32.599687Z",
     "start_time": "2022-10-11T12:41:32.592949Z"
    }
   },
   "outputs": [],
   "source": [
    "ants = list(char_dist_ds[char_dist_ds.relations_ML_appr == 'antonym'].word1.values) + list(char_dist_ds[char_dist_ds.relations_ML_appr == 'antonym'].word2.values)\n",
    "ants = list(set([w.strip() for w in ants]))\n",
    "ants"
   ]
  },
  {
   "cell_type": "code",
   "execution_count": 127,
   "metadata": {
    "ExecuteTime": {
     "end_time": "2022-10-11T12:41:33.324954Z",
     "start_time": "2022-10-11T12:41:33.320915Z"
    }
   },
   "outputs": [],
   "source": [
    "len(ants)"
   ]
  },
  {
   "cell_type": "code",
   "execution_count": 128,
   "metadata": {
    "ExecuteTime": {
     "end_time": "2022-10-11T12:41:34.054122Z",
     "start_time": "2022-10-11T12:41:34.047690Z"
    }
   },
   "outputs": [],
   "source": [
    "ar_abc = set([c for c in ''.join(ants+syns)])\n",
    "ar_abc"
   ]
  },
  {
   "cell_type": "code",
   "execution_count": 129,
   "metadata": {
    "ExecuteTime": {
     "end_time": "2022-10-11T12:41:34.821935Z",
     "start_time": "2022-10-11T12:41:34.816003Z"
    }
   },
   "outputs": [],
   "source": [
    "len(ar_abc)"
   ]
  },
  {
   "cell_type": "markdown",
   "metadata": {},
   "source": [
    "### Syns"
   ]
  },
  {
   "cell_type": "code",
   "execution_count": null,
   "metadata": {
    "ExecuteTime": {
     "end_time": "2022-10-08T16:11:49.796243Z",
     "start_time": "2022-10-08T16:11:49.790889Z"
    }
   },
   "outputs": [],
   "source": []
  },
  {
   "cell_type": "code",
   "execution_count": 130,
   "metadata": {
    "ExecuteTime": {
     "end_time": "2022-10-11T12:41:37.088274Z",
     "start_time": "2022-10-11T12:41:37.080326Z"
    }
   },
   "outputs": [],
   "source": [
    "vectorizer1 = CountVectorizer(analyzer='char', vocabulary=ar_abc)\n",
    "X = vectorizer1.fit_transform(syns)\n",
    "#len(vectorizer1.get_feature_names())\n"
   ]
  },
  {
   "cell_type": "code",
   "execution_count": 131,
   "metadata": {
    "ExecuteTime": {
     "end_time": "2022-10-11T12:41:37.776404Z",
     "start_time": "2022-10-11T12:41:37.769384Z"
    }
   },
   "outputs": [],
   "source": [
    "X.sum(axis=0).shape"
   ]
  },
  {
   "cell_type": "code",
   "execution_count": 132,
   "metadata": {
    "ExecuteTime": {
     "end_time": "2022-10-11T12:41:38.456074Z",
     "start_time": "2022-10-11T12:41:38.448850Z"
    }
   },
   "outputs": [],
   "source": [
    "X.sum(axis=0)"
   ]
  },
  {
   "cell_type": "markdown",
   "metadata": {},
   "source": [
    "### Ants"
   ]
  },
  {
   "cell_type": "code",
   "execution_count": 133,
   "metadata": {
    "ExecuteTime": {
     "end_time": "2022-10-11T12:41:40.258984Z",
     "start_time": "2022-10-11T12:41:40.249761Z"
    }
   },
   "outputs": [],
   "source": [
    "vectorizer2 = CountVectorizer(analyzer='char', vocabulary=ar_abc)\n",
    "X2 = vectorizer2.fit_transform(ants)\n",
    "#len(vectorizer1.get_feature_names())\n"
   ]
  },
  {
   "cell_type": "code",
   "execution_count": 134,
   "metadata": {
    "ExecuteTime": {
     "end_time": "2022-10-11T12:41:40.892231Z",
     "start_time": "2022-10-11T12:41:40.882667Z"
    }
   },
   "outputs": [],
   "source": [
    "X2.sum(axis=0).shape"
   ]
  },
  {
   "cell_type": "code",
   "execution_count": 135,
   "metadata": {
    "ExecuteTime": {
     "end_time": "2022-10-11T12:41:41.615954Z",
     "start_time": "2022-10-11T12:41:41.608129Z"
    }
   },
   "outputs": [],
   "source": [
    "np.array(X2.sum(axis=0))[0]"
   ]
  },
  {
   "cell_type": "code",
   "execution_count": 136,
   "metadata": {
    "ExecuteTime": {
     "end_time": "2022-10-11T12:41:42.193663Z",
     "start_time": "2022-10-11T12:41:42.186960Z"
    }
   },
   "outputs": [],
   "source": [
    "' '.join([c for c in vectorizer1.get_feature_names()])"
   ]
  },
  {
   "cell_type": "code",
   "execution_count": 137,
   "metadata": {
    "ExecuteTime": {
     "end_time": "2022-10-11T12:41:43.095898Z",
     "start_time": "2022-10-11T12:41:43.088772Z"
    }
   },
   "outputs": [],
   "source": [
    "ar_letters = [c for c in vectorizer1.get_feature_names()]\n",
    "ar_letters"
   ]
  },
  {
   "cell_type": "code",
   "execution_count": null,
   "metadata": {
    "ExecuteTime": {
     "end_time": "2022-10-09T18:45:06.078431Z",
     "start_time": "2022-10-09T18:45:06.073410Z"
    }
   },
   "outputs": [],
   "source": []
  },
  {
   "cell_type": "code",
   "execution_count": 138,
   "metadata": {
    "ExecuteTime": {
     "end_time": "2022-10-11T12:41:45.435185Z",
     "start_time": "2022-10-11T12:41:45.048997Z"
    }
   },
   "outputs": [],
   "source": [
    "#plt.scatter(np.array(X.sum(axis=0))[0], np.array(X2.sum(axis=0))[0], c=shams)\n",
    "x = np.array(X.sum(axis=0))[0]\n",
    "x = x / sum(x) * 100\n",
    "y = np.array(X2.sum(axis=0))[0]\n",
    "y = y / sum(y) *100\n",
    "fig, ax = plt.subplots(figsize=(10,10))\n",
    "ax.scatter(x, y, c=shams, cmap='rainbow')\n",
    "\n",
    "for i, txt in enumerate(ar_letters):\n",
    "    ax.annotate(txt, (x[i]+0.2, y[i]), fontsize=20)\n",
    "    \n",
    "plt.xlabel('Synonym', fontsize=18)\n",
    "plt.ylabel('Antonym', fontsize=16)"
   ]
  },
  {
   "cell_type": "markdown",
   "metadata": {},
   "source": [
    "## HLPL"
   ]
  },
  {
   "cell_type": "code",
   "execution_count": 93,
   "metadata": {
    "ExecuteTime": {
     "end_time": "2022-10-11T12:21:28.368217Z",
     "start_time": "2022-10-11T12:21:27.845694Z"
    }
   },
   "outputs": [],
   "source": [
    "syns2 = list(set(ds_ant_syn_dic[(ds_ant_syn_dic.root_perm == True)&(ds_ant_syn_dic.relation == 'synonym')].sw_root.values)) + \\\n",
    "        list(set(ds_ant_syn_dic[(ds_ant_syn_dic.root_perm == True)&(ds_ant_syn_dic.relation == 'synonym')].ew_root.values))\n",
    "#syns2 = list(set([w.strip() for w in syns]))\n",
    "syns2 = list(set(syns2))\n",
    "syns2"
   ]
  },
  {
   "cell_type": "code",
   "execution_count": 94,
   "metadata": {
    "ExecuteTime": {
     "end_time": "2022-10-11T12:21:34.939454Z",
     "start_time": "2022-10-11T12:21:34.931484Z"
    }
   },
   "outputs": [],
   "source": [
    "len(syns2)"
   ]
  },
  {
   "cell_type": "code",
   "execution_count": 95,
   "metadata": {
    "ExecuteTime": {
     "end_time": "2022-10-11T12:22:57.953478Z",
     "start_time": "2022-10-11T12:22:57.366462Z"
    }
   },
   "outputs": [],
   "source": [
    "ants2 = list(set(ds_ant_syn_dic[(ds_ant_syn_dic.root_perm == True)&(ds_ant_syn_dic.relation == 'antonym')].sw_root.values)) + \\\n",
    "        list(set(ds_ant_syn_dic[(ds_ant_syn_dic.root_perm == True)&(ds_ant_syn_dic.relation == 'antonym')].ew_root.values))\n",
    "ants2 = list(set(ants2))\n",
    "ants2"
   ]
  },
  {
   "cell_type": "code",
   "execution_count": 96,
   "metadata": {
    "ExecuteTime": {
     "end_time": "2022-10-11T12:23:02.314993Z",
     "start_time": "2022-10-11T12:23:02.304854Z"
    }
   },
   "outputs": [],
   "source": [
    "len(ants2)"
   ]
  },
  {
   "cell_type": "code",
   "execution_count": 97,
   "metadata": {
    "ExecuteTime": {
     "end_time": "2022-10-11T12:23:51.610519Z",
     "start_time": "2022-10-11T12:23:51.605595Z"
    }
   },
   "outputs": [],
   "source": [
    "ar_abc2 = set([c for c in ''.join(ants2+syns2)])\n",
    "ar_abc2"
   ]
  },
  {
   "cell_type": "code",
   "execution_count": 98,
   "metadata": {
    "ExecuteTime": {
     "end_time": "2022-10-11T12:24:03.251912Z",
     "start_time": "2022-10-11T12:24:03.245038Z"
    }
   },
   "outputs": [],
   "source": [
    "len(ar_abc2)"
   ]
  },
  {
   "cell_type": "code",
   "execution_count": 115,
   "metadata": {
    "ExecuteTime": {
     "end_time": "2022-10-11T12:35:43.165624Z",
     "start_time": "2022-10-11T12:35:43.157606Z"
    }
   },
   "outputs": [],
   "source": [
    "shams2 = [0, 0, 0, 1, 1, 0, 0, 0, 1, 1, 1, 1, 1, 1, 1, 1, 1, 0, 0, 0, 0, 0, 1, 1, 1, 0, 0, 0, 0]\n",
    "sum(shams)"
   ]
  },
  {
   "cell_type": "markdown",
   "metadata": {},
   "source": [
    "### Syns"
   ]
  },
  {
   "cell_type": "code",
   "execution_count": 105,
   "metadata": {
    "ExecuteTime": {
     "end_time": "2022-10-11T12:27:52.928061Z",
     "start_time": "2022-10-11T12:27:52.915909Z"
    }
   },
   "outputs": [],
   "source": [
    "vectorizer3 = CountVectorizer(analyzer='char', vocabulary=ar_abc2)\n",
    "X3 = vectorizer3.fit_transform(syns2)\n",
    "\n"
   ]
  },
  {
   "cell_type": "code",
   "execution_count": 106,
   "metadata": {
    "ExecuteTime": {
     "end_time": "2022-10-11T12:27:53.698081Z",
     "start_time": "2022-10-11T12:27:53.689952Z"
    }
   },
   "outputs": [],
   "source": [
    "X3.sum(axis=0).shape"
   ]
  },
  {
   "cell_type": "code",
   "execution_count": 107,
   "metadata": {
    "ExecuteTime": {
     "end_time": "2022-10-11T12:27:54.509190Z",
     "start_time": "2022-10-11T12:27:54.500833Z"
    }
   },
   "outputs": [],
   "source": [
    "X3.sum(axis=0)"
   ]
  },
  {
   "cell_type": "markdown",
   "metadata": {},
   "source": [
    "### Ants"
   ]
  },
  {
   "cell_type": "code",
   "execution_count": 108,
   "metadata": {
    "ExecuteTime": {
     "end_time": "2022-10-11T12:28:02.338916Z",
     "start_time": "2022-10-11T12:28:02.332691Z"
    }
   },
   "outputs": [],
   "source": [
    "vectorizer4 = CountVectorizer(analyzer='char', vocabulary=ar_abc2)\n",
    "X4 = vectorizer4.fit_transform(ants2)\n",
    "#len(vectorizer1.get_feature_names())\n"
   ]
  },
  {
   "cell_type": "code",
   "execution_count": 109,
   "metadata": {
    "ExecuteTime": {
     "end_time": "2022-10-11T12:28:05.086033Z",
     "start_time": "2022-10-11T12:28:05.076452Z"
    }
   },
   "outputs": [],
   "source": [
    "X4.sum(axis=0).shape"
   ]
  },
  {
   "cell_type": "code",
   "execution_count": 110,
   "metadata": {
    "ExecuteTime": {
     "end_time": "2022-10-11T12:28:12.479060Z",
     "start_time": "2022-10-11T12:28:12.465858Z"
    }
   },
   "outputs": [],
   "source": [
    "np.array(X4.sum(axis=0))[0]"
   ]
  },
  {
   "cell_type": "code",
   "execution_count": 113,
   "metadata": {
    "ExecuteTime": {
     "end_time": "2022-10-11T12:31:27.040198Z",
     "start_time": "2022-10-11T12:31:27.033612Z"
    }
   },
   "outputs": [],
   "source": []
  },
  {
   "cell_type": "code",
   "execution_count": 119,
   "metadata": {
    "ExecuteTime": {
     "end_time": "2022-10-11T12:40:05.252789Z",
     "start_time": "2022-10-11T12:40:04.849185Z"
    }
   },
   "outputs": [],
   "source": [
    "x = np.array(X3.sum(axis=0))[0]\n",
    "x = x / sum(x) * 100\n",
    "y = np.array(X4.sum(axis=0))[0]\n",
    "y = y / sum(y) * 100\n",
    "fig, ax = plt.subplots(figsize=(10,10))\n",
    "ax.scatter(x, y, c=shams2, cmap='rainbow')\n",
    "\n",
    "for i, txt in enumerate(ar_abc2):\n",
    "    ax.annotate(txt, (x[i]+0.2, y[i]), fontsize=20)\n",
    "    \n",
    "plt.xlabel('Synonym', fontsize=18)\n",
    "plt.ylabel('Antonym', fontsize=16)"
   ]
  },
  {
   "cell_type": "code",
   "execution_count": null,
   "metadata": {},
   "outputs": [],
   "source": []
  }
 ],
 "metadata": {
  "kernelspec": {
   "display_name": "Python 3",
   "language": "python",
   "name": "python3"
  },
  "language_info": {
   "codemirror_mode": {
    "name": "ipython",
    "version": 3
   },
   "file_extension": ".py",
   "mimetype": "text/x-python",
   "name": "python",
   "nbconvert_exporter": "python",
   "pygments_lexer": "ipython3",
   "version": "3.8.5"
  },
  "toc": {
   "base_numbering": 1,
   "nav_menu": {},
   "number_sections": true,
   "sideBar": true,
   "skip_h1_title": false,
   "title_cell": "Table of Contents",
   "title_sidebar": "Contents",
   "toc_cell": false,
   "toc_position": {
    "height": "calc(100% - 180px)",
    "left": "10px",
    "top": "150px",
    "width": "320px"
   },
   "toc_section_display": true,
   "toc_window_display": true
  },
  "varInspector": {
   "cols": {
    "lenName": 16,
    "lenType": 16,
    "lenVar": 40
   },
   "kernels_config": {
    "python": {
     "delete_cmd_postfix": "",
     "delete_cmd_prefix": "del ",
     "library": "var_list.py",
     "varRefreshCmd": "print(var_dic_list())"
    },
    "r": {
     "delete_cmd_postfix": ") ",
     "delete_cmd_prefix": "rm(",
     "library": "var_list.r",
     "varRefreshCmd": "cat(var_dic_list()) "
    }
   },
   "types_to_exclude": [
    "module",
    "function",
    "builtin_function_or_method",
    "instance",
    "_Feature"
   ],
   "window_display": false
  }
 },
 "nbformat": 4,
 "nbformat_minor": 4
}
